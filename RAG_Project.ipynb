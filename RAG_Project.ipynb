{
  "nbformat": 4,
  "nbformat_minor": 0,
  "metadata": {
    "colab": {
      "provenance": [],
      "gpuType": "T4",
      "authorship_tag": "ABX9TyN5DoRj1iqGr8CAabZ5lLkL",
      "include_colab_link": true
    },
    "kernelspec": {
      "name": "python3",
      "display_name": "Python 3"
    },
    "language_info": {
      "name": "python"
    },
    "accelerator": "GPU"
  },
  "cells": [
    {
      "cell_type": "markdown",
      "metadata": {
        "id": "view-in-github",
        "colab_type": "text"
      },
      "source": [
        "<a href=\"https://colab.research.google.com/github/avish006/Rag-Project/blob/main/RAG_Project.ipynb\" target=\"_parent\"><img src=\"https://colab.research.google.com/assets/colab-badge.svg\" alt=\"Open In Colab\"/></a>"
      ]
    },
    {
      "cell_type": "code",
      "source": [
        "pip install fitz"
      ],
      "metadata": {
        "colab": {
          "base_uri": "https://localhost:8080/"
        },
        "id": "kaJtFKkFKuWp",
        "outputId": "70987526-cf51-4b75-e96e-ce5a269a553b"
      },
      "execution_count": null,
      "outputs": [
        {
          "output_type": "stream",
          "name": "stdout",
          "text": [
            "Requirement already satisfied: fitz in /usr/local/lib/python3.11/dist-packages (0.0.1.dev2)\n",
            "Requirement already satisfied: configobj in /usr/local/lib/python3.11/dist-packages (from fitz) (5.0.9)\n",
            "Requirement already satisfied: configparser in /usr/local/lib/python3.11/dist-packages (from fitz) (7.2.0)\n",
            "Requirement already satisfied: httplib2 in /usr/local/lib/python3.11/dist-packages (from fitz) (0.22.0)\n",
            "Requirement already satisfied: nibabel in /usr/local/lib/python3.11/dist-packages (from fitz) (5.3.2)\n",
            "Requirement already satisfied: nipype in /usr/local/lib/python3.11/dist-packages (from fitz) (1.9.2)\n",
            "Requirement already satisfied: numpy in /usr/local/lib/python3.11/dist-packages (from fitz) (1.26.4)\n",
            "Requirement already satisfied: pandas in /usr/local/lib/python3.11/dist-packages (from fitz) (2.2.2)\n",
            "Requirement already satisfied: pyxnat in /usr/local/lib/python3.11/dist-packages (from fitz) (1.6.3)\n",
            "Requirement already satisfied: scipy in /usr/local/lib/python3.11/dist-packages (from fitz) (1.13.1)\n",
            "Requirement already satisfied: pyparsing!=3.0.0,!=3.0.1,!=3.0.2,!=3.0.3,<4,>=2.4.2 in /usr/local/lib/python3.11/dist-packages (from httplib2->fitz) (3.2.1)\n",
            "Requirement already satisfied: importlib-resources>=5.12 in /usr/local/lib/python3.11/dist-packages (from nibabel->fitz) (6.5.2)\n",
            "Requirement already satisfied: packaging>=20 in /usr/local/lib/python3.11/dist-packages (from nibabel->fitz) (24.2)\n",
            "Requirement already satisfied: typing-extensions>=4.6 in /usr/local/lib/python3.11/dist-packages (from nibabel->fitz) (4.12.2)\n",
            "Requirement already satisfied: click>=6.6.0 in /usr/local/lib/python3.11/dist-packages (from nipype->fitz) (8.1.8)\n",
            "Requirement already satisfied: networkx>=2.5 in /usr/local/lib/python3.11/dist-packages (from nipype->fitz) (3.4.2)\n",
            "Requirement already satisfied: prov>=1.5.2 in /usr/local/lib/python3.11/dist-packages (from nipype->fitz) (2.0.1)\n",
            "Requirement already satisfied: pydot>=1.2.3 in /usr/local/lib/python3.11/dist-packages (from nipype->fitz) (3.0.4)\n",
            "Requirement already satisfied: python-dateutil>=2.2 in /usr/local/lib/python3.11/dist-packages (from nipype->fitz) (2.8.2)\n",
            "Requirement already satisfied: rdflib>=5.0.0 in /usr/local/lib/python3.11/dist-packages (from nipype->fitz) (6.3.2)\n",
            "Requirement already satisfied: simplejson>=3.8.0 in /usr/local/lib/python3.11/dist-packages (from nipype->fitz) (3.20.1)\n",
            "Requirement already satisfied: traits>=6.2 in /usr/local/lib/python3.11/dist-packages (from nipype->fitz) (7.0.2)\n",
            "Requirement already satisfied: filelock>=3.0.0 in /usr/local/lib/python3.11/dist-packages (from nipype->fitz) (3.17.0)\n",
            "Requirement already satisfied: acres in /usr/local/lib/python3.11/dist-packages (from nipype->fitz) (0.3.0)\n",
            "Requirement already satisfied: etelemetry>=0.3.1 in /usr/local/lib/python3.11/dist-packages (from nipype->fitz) (0.3.1)\n",
            "Requirement already satisfied: looseversion!=1.2 in /usr/local/lib/python3.11/dist-packages (from nipype->fitz) (1.3.0)\n",
            "Requirement already satisfied: puremagic in /usr/local/lib/python3.11/dist-packages (from nipype->fitz) (1.28)\n",
            "Requirement already satisfied: pytz>=2020.1 in /usr/local/lib/python3.11/dist-packages (from pandas->fitz) (2025.1)\n",
            "Requirement already satisfied: tzdata>=2022.7 in /usr/local/lib/python3.11/dist-packages (from pandas->fitz) (2025.1)\n",
            "Requirement already satisfied: lxml>=4.3 in /usr/local/lib/python3.11/dist-packages (from pyxnat->fitz) (5.3.1)\n",
            "Requirement already satisfied: requests>=2.20 in /usr/local/lib/python3.11/dist-packages (from pyxnat->fitz) (2.32.3)\n",
            "Requirement already satisfied: pathlib>=1.0 in /usr/local/lib/python3.11/dist-packages (from pyxnat->fitz) (1.0.1)\n",
            "Requirement already satisfied: ci-info>=0.2 in /usr/local/lib/python3.11/dist-packages (from etelemetry>=0.3.1->nipype->fitz) (0.3.0)\n",
            "Requirement already satisfied: six>=1.5 in /usr/local/lib/python3.11/dist-packages (from python-dateutil>=2.2->nipype->fitz) (1.17.0)\n",
            "Requirement already satisfied: isodate<0.7.0,>=0.6.0 in /usr/local/lib/python3.11/dist-packages (from rdflib>=5.0.0->nipype->fitz) (0.6.1)\n",
            "Requirement already satisfied: charset-normalizer<4,>=2 in /usr/local/lib/python3.11/dist-packages (from requests>=2.20->pyxnat->fitz) (3.4.1)\n",
            "Requirement already satisfied: idna<4,>=2.5 in /usr/local/lib/python3.11/dist-packages (from requests>=2.20->pyxnat->fitz) (3.10)\n",
            "Requirement already satisfied: urllib3<3,>=1.21.1 in /usr/local/lib/python3.11/dist-packages (from requests>=2.20->pyxnat->fitz) (2.3.0)\n",
            "Requirement already satisfied: certifi>=2017.4.17 in /usr/local/lib/python3.11/dist-packages (from requests>=2.20->pyxnat->fitz) (2025.1.31)\n"
          ]
        }
      ]
    },
    {
      "source": [
        "!pip install --upgrade --force-reinstall pymupdf"
      ],
      "cell_type": "code",
      "metadata": {
        "colab": {
          "base_uri": "https://localhost:8080/"
        },
        "id": "rzTSoIi_K4Og",
        "outputId": "c865c7cb-3ea8-4bea-acf3-1633065d3126"
      },
      "execution_count": null,
      "outputs": [
        {
          "output_type": "stream",
          "name": "stdout",
          "text": [
            "Collecting pymupdf\n",
            "  Using cached pymupdf-1.25.3-cp39-abi3-manylinux2014_x86_64.manylinux_2_17_x86_64.whl.metadata (3.4 kB)\n",
            "Using cached pymupdf-1.25.3-cp39-abi3-manylinux2014_x86_64.manylinux_2_17_x86_64.whl (20.0 MB)\n",
            "Installing collected packages: pymupdf\n",
            "  Attempting uninstall: pymupdf\n",
            "    Found existing installation: PyMuPDF 1.25.3\n",
            "    Uninstalling PyMuPDF-1.25.3:\n",
            "      Successfully uninstalled PyMuPDF-1.25.3\n",
            "Successfully installed pymupdf-1.25.3\n"
          ]
        }
      ]
    },
    {
      "cell_type": "code",
      "execution_count": null,
      "metadata": {
        "id": "oBMJrq7mKPkC"
      },
      "outputs": [],
      "source": [
        "import fitz\n",
        "\n",
        "#Extracting text from a pdf document\n",
        "def extract_text_from_pdf(pdf_path):\n",
        "    doc = fitz.open(pdf_path)\n",
        "    text = \"\"\n",
        "    for page in doc:\n",
        "        text += page.get_text(\"text\") + \"\\n\"\n",
        "    return text\n",
        "text = extract_text_from_pdf('/content/Attention is all you need.pdf')"
      ]
    },
    {
      "cell_type": "code",
      "source": [
        "#Using Recursive Character Text Splitter for dividing text into chunks of text\n",
        "from langchain.text_splitter import RecursiveCharacterTextSplitter\n",
        "def recursive_chunking(text, chunk_size=200, overlap=100):\n",
        "    text_splitter = RecursiveCharacterTextSplitter(chunk_size=chunk_size, chunk_overlap=overlap)\n",
        "    return text_splitter.split_text(text)\n"
      ],
      "metadata": {
        "id": "LPBXMVmaLFdR"
      },
      "execution_count": null,
      "outputs": []
    },
    {
      "cell_type": "code",
      "source": [
        "#Splitting the documents into chunks of text\n",
        "chunks = recursive_chunking(text)"
      ],
      "metadata": {
        "id": "RxuShDgtQWwi"
      },
      "execution_count": null,
      "outputs": []
    },
    {
      "cell_type": "code",
      "source": [
        "#Sentence Transformer for creating vector embeddings of chunks\n",
        "from sentence_transformers import SentenceTransformer\n",
        "model = SentenceTransformer('BAAI/bge-large-en-v1.5')\n",
        "embeddings = [model.encode(chunk,normalize_embeddings=True).tolist() for chunk in chunks]"
      ],
      "metadata": {
        "id": "dSoyWb78QvMF"
      },
      "execution_count": null,
      "outputs": []
    },
    {
      "cell_type": "code",
      "source": [
        "pip install faiss-cpu"
      ],
      "metadata": {
        "id": "AD3h0-kURy5b",
        "colab": {
          "base_uri": "https://localhost:8080/"
        },
        "outputId": "59b2c019-894a-466e-c50d-defaf877fa95"
      },
      "execution_count": null,
      "outputs": [
        {
          "output_type": "stream",
          "name": "stdout",
          "text": [
            "Requirement already satisfied: faiss-cpu in /usr/local/lib/python3.11/dist-packages (1.10.0)\n",
            "Requirement already satisfied: numpy<3.0,>=1.25.0 in /usr/local/lib/python3.11/dist-packages (from faiss-cpu) (1.26.4)\n",
            "Requirement already satisfied: packaging in /usr/local/lib/python3.11/dist-packages (from faiss-cpu) (24.2)\n"
          ]
        }
      ]
    },
    {
      "cell_type": "code",
      "source": [
        "import faiss\n",
        "import numpy as np\n",
        "\n",
        "def store_embeddings_faiss(embeddings):\n",
        "    embedding_dim = len(embeddings[0])  # Get the size of each embedding\n",
        "    index = faiss.IndexFlatL2(embedding_dim)  # Create FAISS index (L2 norm)\n",
        "\n",
        "    np_embeddings = np.array(embeddings).astype('float32')  # Convert list to NumPy array\n",
        "    index.add(np_embeddings)  # Add embeddings to FAISS\n",
        "\n",
        "    faiss.write_index(index, \"vector_store.index\")  # Save index to disk\n",
        "    print(\"Embeddings stored successfully in FAISS!\")\n",
        "\n",
        "    return index"
      ],
      "metadata": {
        "id": "ZizhtYsWS8uj"
      },
      "execution_count": null,
      "outputs": []
    },
    {
      "cell_type": "code",
      "source": [
        "def load_faiss_index():\n",
        "    return faiss.read_index(\"vector_store.index\")"
      ],
      "metadata": {
        "id": "xSf4UD8_vBP-"
      },
      "execution_count": null,
      "outputs": []
    },
    {
      "cell_type": "code",
      "source": [
        "index = store_embeddings_faiss(embeddings)  # Store embeddings"
      ],
      "metadata": {
        "colab": {
          "base_uri": "https://localhost:8080/"
        },
        "id": "8WIek12nvelS",
        "outputId": "825d9d06-916a-4492-92eb-ed66a3264db4"
      },
      "execution_count": null,
      "outputs": [
        {
          "output_type": "stream",
          "name": "stdout",
          "text": [
            "Embeddings stored successfully in FAISS!\n"
          ]
        }
      ]
    },
    {
      "cell_type": "code",
      "source": [
        "loaded_index = load_faiss_index()  # Load stored embeddings"
      ],
      "metadata": {
        "id": "BaPuJ3DXviLq"
      },
      "execution_count": null,
      "outputs": []
    },
    {
      "cell_type": "code",
      "source": [
        "from openai import OpenAI\n",
        "import numpy as np\n",
        "\n",
        "# Initialize OpenRouter client\n",
        "client = OpenAI(\n",
        "    base_url=\"https://openrouter.ai/api/v1\",\n",
        "    api_key=\"####\",\n",
        ")"
      ],
      "metadata": {
        "id": "5noaCkuZ648n"
      },
      "execution_count": null,
      "outputs": []
    },
    {
      "cell_type": "code",
      "source": [
        "# Function to retrieve relevant chunks (FAISS example)\n",
        "def search_faiss(index, query_embedding, top_k=6):\n",
        "    query_embedding = np.array([query_embedding]).astype('float32')\n",
        "    distances, indices = index.search(query_embedding, top_k)\n",
        "    return indices[0]  # Top matching chunks"
      ],
      "metadata": {
        "id": "UeQHSnid8ePz"
      },
      "execution_count": null,
      "outputs": []
    },
    {
      "cell_type": "code",
      "source": [
        "# Function to send query to DeepSeek R1 via OpenRouter\n",
        "def query_rag(user_query, index, chunks):\n",
        "    query_embedding = model.encode(user_query,normalize_embeddings=True)  # Convert query to embedding\n",
        "    retrieved_indices = search_faiss(index, query_embedding)  # Get top matching chunks\n",
        "\n",
        "    # Combine retrieved text for context\n",
        "    retrieved_text = \" \".join([chunks[i] for i in retrieved_indices])\n",
        "\n",
        "    # Construct full prompt with retrieved context\n",
        "    full_prompt = f\"\"\"You are an advanced AI assistant with deep reasoning abilities. Use the provided context to answer the question thoughtfully. If needed, go beyond the exact wording and apply logical reasoning to infer deeper insights. Context: {retrieved_text} Question: {user_query} Your answer should be: - **Comprehensive** (Cover key details) - **Logical** (Explain reasoning clearly) - **Abstract when necessary** (Don't just summarize, but also interpret meaning)\"\"\"\n",
        "\n",
        "    # Send request to DeepSeek R1 via OpenRouter\n",
        "    completion = client.chat.completions.create(\n",
        "        extra_headers={\n",
        "            \"HTTP-Referer\": \"<YOUR_SITE_URL>\",\n",
        "            \"X-Title\": \"<YOUR_SITE_NAME>\",\n",
        "        },\n",
        "        model=\"deepseek/deepseek-r1:free\",\n",
        "        messages=[{\"role\": \"user\", \"content\": full_prompt}],\n",
        "        temperature=0.7,  # Increase randomness for more detailed responses\n",
        "        top_p=0.7 , # Allow for more diverse word choices\n",
        "        presence_penalty=0.35, #Allow for newer words to be used\n",
        "        frequency_penalty = 0.2, #Penalizes repeatition of words\n",
        "        max_tokens= 1600\n",
        "    )\n",
        "\n",
        "    return completion.choices[0].message.content"
      ],
      "metadata": {
        "id": "TyuRHHoj8hrb"
      },
      "execution_count": null,
      "outputs": []
    },
    {
      "cell_type": "code",
      "source": [
        "response = query_rag(\"List down the names of all the authors\", index, chunks)\n",
        "print(response)"
      ],
      "metadata": {
        "colab": {
          "base_uri": "https://localhost:8080/"
        },
        "id": "DWFxlQdc8jez",
        "outputId": "b715c98a-f4a7-4373-9a69-13f56dbd9fcb"
      },
      "execution_count": null,
      "outputs": [
        {
          "output_type": "stream",
          "name": "stdout",
          "text": [
            "- **Comprehensive List of Authors**:  \n",
            "  The context includes authors from research papers and affiliations. By carefully parsing the text and resolving duplicates/affiliations, the unique authors are:  \n",
            "  **Ashish Vaswani, Noam Shazeer, Niki Parmar, Jakob Uszkoreit, Llion Jones, Aidan N. Gomez, Oﬁr Press, Lior Wolf, Jianpeng Cheng, Li Dong, Mirella Lapata, Romain Paulus, Caiming Xiong, Richard Socher, Nal Kalchbrenner, Lasse Espeholt, Karen Simonyan, Aaron van den Oord, Alex Graves, Kory Kavukcuoglu**.\n",
            "\n",
            "- **Logical Reasoning**:  \n",
            "  1. **Direct Extraction**: Names were extracted from email headers, affiliations, and citations.  \n",
            "  2. **Deduplication**: Identified overlaps (e.g., \"Noam\" and \"Noam Shazeer\" refer to the same person via matching emails).  \n",
            "  3. **Context Clustering**: Authors like Niki Parmar and Jakob Uszkoreit appear in both the Google Research header and the *Attention Is All You Need* section, confirming their uniqueness.  \n",
            "\n",
            "- **Abstract Interpretation**:  \n",
            "  The list reflects collaborative efforts across institutions (Google, University of Toronto) and highlights key contributors to seminal works like the *Transformer* architecture (\"Attention Is All You Need\") and advancements in NLP (e.g., machine translation, summarization). The recurrence of certain authors (e.g., Niki Parmar, Jakob Uszkoreit) across sections underscores their interdisciplinary impact.\n"
          ]
        }
      ]
    },
    {
      "cell_type": "code",
      "source": [
        "#Hybrid Searching for improved response quality ,\n",
        "#Enable Multi-Step Reasoning with Recursive Calls, If question is complex, generate reasoning steps first, then refine its answer (Method: Multi-Step RAG (RAG + Self-Refinement)\n",
        "#Chain Of Thought"
      ],
      "metadata": {
        "id": "_OZTQ8uZHk_m"
      },
      "execution_count": null,
      "outputs": []
    }
  ]
}